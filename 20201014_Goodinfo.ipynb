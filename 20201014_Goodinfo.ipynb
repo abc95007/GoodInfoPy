{
 "cells": [
  {
   "cell_type": "code",
   "execution_count": 206,
   "metadata": {},
   "outputs": [],
   "source": [
    "import re\n",
    "import pandas as pd\n",
    "import pandas \n",
    "from datetime import datetime\n",
    "import requests\n",
    "from bs4 import BeautifulSoup\n",
    "import copy"
   ]
  },
  {
   "cell_type": "code",
   "execution_count": 221,
   "metadata": {},
   "outputs": [],
   "source": [
    "def ConvertSeasonToTime(data:str):\n",
    "    year, season = data.split(\"Q\")    \n",
    "    time = \"{y}-{m}-{d}\".format(y=year, m=3*int(season), d=30)\n",
    "    time = pd.to_datetime(time, format=\"%Y-%m-%d\")\n",
    "    return time\n",
    "\n",
    "def FilterColumn(df:pandas.DataFrame):\n",
    "    cols = copy.deepcopy(df.columns.values)\n",
    "    for i, col in enumerate(cols):\n",
    "        if col in cols[:i]:\n",
    "            cols[i] = col + \"%\"\n",
    "    df.columns = cols\n",
    "    return df"
   ]
  },
  {
   "cell_type": "code",
   "execution_count": 210,
   "metadata": {},
   "outputs": [
    {
     "ename": "TypeError",
     "evalue": "GetCashFlows() missing 1 required positional argument: 'mode'",
     "output_type": "error",
     "traceback": [
      "\u001b[1;31m---------------------------------------------------------------------------\u001b[0m",
      "\u001b[1;31mTypeError\u001b[0m                                 Traceback (most recent call last)",
      "\u001b[1;32m<ipython-input-210-17b40f1b97dc>\u001b[0m in \u001b[0;36m<module>\u001b[1;34m\u001b[0m\n\u001b[0;32m     31\u001b[0m     \u001b[1;32mreturn\u001b[0m \u001b[0mdf\u001b[0m\u001b[1;33m\u001b[0m\u001b[1;33m\u001b[0m\u001b[0m\n\u001b[0;32m     32\u001b[0m     \u001b[1;31m#res.text\u001b[0m\u001b[1;33m\u001b[0m\u001b[1;33m\u001b[0m\u001b[1;33m\u001b[0m\u001b[0m\n\u001b[1;32m---> 33\u001b[1;33m \u001b[0mdf\u001b[0m \u001b[1;33m=\u001b[0m \u001b[0mGetCashFlows\u001b[0m\u001b[1;33m(\u001b[0m\u001b[1;36m2330\u001b[0m\u001b[1;33m)\u001b[0m\u001b[1;33m\u001b[0m\u001b[1;33m\u001b[0m\u001b[0m\n\u001b[0m\u001b[0;32m     34\u001b[0m \u001b[0mdf\u001b[0m\u001b[1;33m[\u001b[0m\u001b[1;33m:\u001b[0m\u001b[1;36m10\u001b[0m\u001b[1;33m]\u001b[0m\u001b[1;33m\u001b[0m\u001b[1;33m\u001b[0m\u001b[0m\n",
      "\u001b[1;31mTypeError\u001b[0m: GetCashFlows() missing 1 required positional argument: 'mode'"
     ]
    }
   ],
   "source": [
    "def GetCashFlows(stockID:int, mode):\n",
    "    headers = {\n",
    "      'user-agent': 'Mozilla/5.0 (Macintosh; Intel Mac OS X 10_14_6) AppleWebKit/537.36 (KHTML, like Gecko) Chrome/84.0.4147.105 Safari/537.36'  \n",
    "    }\n",
    "    \n",
    "    #res = requests.get(\"https://goodinfo.tw/StockInfo/StockBzPerformance.asp?STOCK_ID={ID}&YEAR_PERIOD=9999&RPT_CAT=M_QUAR\".format(ID = stockID), headers = headers)\n",
    "\n",
    "    res = requests.get('https://goodinfo.tw/StockInfo/StockCashFlow.asp?STOCK_ID={ID}&RPT_CAT=M_QUAR'.format(ID = stockID), headers = headers)\n",
    "    res.encoding = 'utf-8'\n",
    "    \n",
    "    soup = BeautifulSoup(res.text, 'lxml')\n",
    "    data = soup.select_one('#txtFinDetailData')\n",
    "    dfs = pd.read_html(data.prettify())\n",
    "    df = dfs[0]\n",
    "\n",
    "    #取最後一欄欄位\n",
    "    df.columns = df.columns.get_level_values(-1)\n",
    "    \n",
    "    # \"-\" 去除掉, 換成 NaN\n",
    "    df = df.applymap(lambda x: np.nan if x == \"-\" else x)\n",
    "    \n",
    "    # \"2020Q4\" 換成 datatime\n",
    "    df.index = df[\"季度\"].map(lambda x: ConvertSeasonToTime(x))\n",
    "    df.index.name = \"時間\"\n",
    "    df = df.drop(columns = \"季度\")\n",
    "    \n",
    "    # 轉換成 float\n",
    "    df.applymap(lambda x: float(x))\n",
    "\n",
    " \n",
    "    return df\n",
    "    #res.text\n",
    "df = GetCashFlows(2330)\n",
    "df[:10]"
   ]
  },
  {
   "cell_type": "code",
   "execution_count": 211,
   "metadata": {},
   "outputs": [],
   "source": [
    "stockID = 2330\n",
    "\n",
    "headers = {\n",
    "  'user-agent': 'Mozilla/5.0 (Macintosh; Intel Mac OS X 10_14_6) AppleWebKit/537.36 (KHTML, like Gecko) Chrome/84.0.4147.105 Safari/537.36'  \n",
    "}\n",
    "#res = requests.get('https://goodinfo.tw/StockInfo/StockCashFlow.asp?STOCK_ID={ID}&RPT_CAT=M_QUAR'.format(ID = stockID), headers = headers)\n",
    "res = requests.get(\"https://goodinfo.tw/StockInfo/StockBzPerformance.asp?STOCK_ID={ID}&YEAR_PERIOD=9999&RPT_CAT=M_QUAR\".format(ID = stockID), headers = headers)\n",
    "res.encoding = 'utf-8'"
   ]
  },
  {
   "cell_type": "code",
   "execution_count": 212,
   "metadata": {},
   "outputs": [],
   "source": [
    "soup = BeautifulSoup(res.text, 'lxml')\n",
    "data = soup.select_one('#txtFinDetailData')\n",
    "dfs = pd.read_html(data.prettify())"
   ]
  },
  {
   "cell_type": "code",
   "execution_count": 229,
   "metadata": {},
   "outputs": [
    {
     "data": {
      "text/plain": [
       "Index(['股本億', '財報評分', '收盤', '平均', '漲跌', '漲跌%', '營業收入', '營業毛利', '營業利益', '業外損益',\n",
       "       '稅後淨利', '營業毛利%', '營業利益%', '業外損益%', '稅後淨利%', '單季ROE', '年估ROE', '單季ROA',\n",
       "       '年估ROA', '稅後EPS', '年增元', 'BPS元'],\n",
       "      dtype='object')"
      ]
     },
     "metadata": {},
     "output_type": "display_data"
    },
    {
     "data": {
      "text/html": [
       "<div>\n",
       "<style scoped>\n",
       "    .dataframe tbody tr th:only-of-type {\n",
       "        vertical-align: middle;\n",
       "    }\n",
       "\n",
       "    .dataframe tbody tr th {\n",
       "        vertical-align: top;\n",
       "    }\n",
       "\n",
       "    .dataframe thead th {\n",
       "        text-align: right;\n",
       "    }\n",
       "</style>\n",
       "<table border=\"1\" class=\"dataframe\">\n",
       "  <thead>\n",
       "    <tr style=\"text-align: right;\">\n",
       "      <th></th>\n",
       "      <th>股本億</th>\n",
       "      <th>財報評分</th>\n",
       "      <th>收盤</th>\n",
       "      <th>平均</th>\n",
       "      <th>漲跌</th>\n",
       "      <th>漲跌%</th>\n",
       "      <th>營業收入</th>\n",
       "      <th>營業毛利</th>\n",
       "      <th>營業利益</th>\n",
       "      <th>業外損益</th>\n",
       "      <th>...</th>\n",
       "      <th>營業利益%</th>\n",
       "      <th>業外損益%</th>\n",
       "      <th>稅後淨利%</th>\n",
       "      <th>單季ROE</th>\n",
       "      <th>年估ROE</th>\n",
       "      <th>單季ROA</th>\n",
       "      <th>年估ROA</th>\n",
       "      <th>稅後EPS</th>\n",
       "      <th>年增元</th>\n",
       "      <th>BPS元</th>\n",
       "    </tr>\n",
       "    <tr>\n",
       "      <th>時間</th>\n",
       "      <th></th>\n",
       "      <th></th>\n",
       "      <th></th>\n",
       "      <th></th>\n",
       "      <th></th>\n",
       "      <th></th>\n",
       "      <th></th>\n",
       "      <th></th>\n",
       "      <th></th>\n",
       "      <th></th>\n",
       "      <th></th>\n",
       "      <th></th>\n",
       "      <th></th>\n",
       "      <th></th>\n",
       "      <th></th>\n",
       "      <th></th>\n",
       "      <th></th>\n",
       "      <th></th>\n",
       "      <th></th>\n",
       "      <th></th>\n",
       "      <th></th>\n",
       "    </tr>\n",
       "  </thead>\n",
       "  <tbody>\n",
       "    <tr>\n",
       "      <th>2020-12-30</th>\n",
       "      <td>NaN</td>\n",
       "      <td>NaN</td>\n",
       "      <td>449.0</td>\n",
       "      <td>450.0</td>\n",
       "      <td>16.0</td>\n",
       "      <td>3.7</td>\n",
       "      <td>NaN</td>\n",
       "      <td>NaN</td>\n",
       "      <td>NaN</td>\n",
       "      <td>NaN</td>\n",
       "      <td>...</td>\n",
       "      <td>NaN</td>\n",
       "      <td>NaN</td>\n",
       "      <td>NaN</td>\n",
       "      <td>NaN</td>\n",
       "      <td>NaN</td>\n",
       "      <td>NaN</td>\n",
       "      <td>NaN</td>\n",
       "      <td>NaN</td>\n",
       "      <td>NaN</td>\n",
       "      <td>NaN</td>\n",
       "    </tr>\n",
       "    <tr>\n",
       "      <th>2020-09-30</th>\n",
       "      <td>NaN</td>\n",
       "      <td>NaN</td>\n",
       "      <td>433.0</td>\n",
       "      <td>411.0</td>\n",
       "      <td>120.0</td>\n",
       "      <td>38.3</td>\n",
       "      <td>NaN</td>\n",
       "      <td>NaN</td>\n",
       "      <td>NaN</td>\n",
       "      <td>NaN</td>\n",
       "      <td>...</td>\n",
       "      <td>NaN</td>\n",
       "      <td>NaN</td>\n",
       "      <td>NaN</td>\n",
       "      <td>NaN</td>\n",
       "      <td>NaN</td>\n",
       "      <td>NaN</td>\n",
       "      <td>NaN</td>\n",
       "      <td>NaN</td>\n",
       "      <td>NaN</td>\n",
       "      <td>NaN</td>\n",
       "    </tr>\n",
       "    <tr>\n",
       "      <th>2020-06-30</th>\n",
       "      <td>2593.0</td>\n",
       "      <td>96.0</td>\n",
       "      <td>313.0</td>\n",
       "      <td>299.0</td>\n",
       "      <td>39.0</td>\n",
       "      <td>14.2</td>\n",
       "      <td>3107.0</td>\n",
       "      <td>1646.0</td>\n",
       "      <td>1311.0</td>\n",
       "      <td>53.0</td>\n",
       "      <td>...</td>\n",
       "      <td>42.2</td>\n",
       "      <td>1.71</td>\n",
       "      <td>38.9</td>\n",
       "      <td>7.12</td>\n",
       "      <td>28.5</td>\n",
       "      <td>5.05</td>\n",
       "      <td>20.2</td>\n",
       "      <td>4.66</td>\n",
       "      <td>2.09</td>\n",
       "      <td>66.35</td>\n",
       "    </tr>\n",
       "    <tr>\n",
       "      <th>2020-03-30</th>\n",
       "      <td>2593.0</td>\n",
       "      <td>96.0</td>\n",
       "      <td>274.0</td>\n",
       "      <td>313.0</td>\n",
       "      <td>-57.0</td>\n",
       "      <td>-17.2</td>\n",
       "      <td>3106.0</td>\n",
       "      <td>1608.0</td>\n",
       "      <td>1285.0</td>\n",
       "      <td>36.3</td>\n",
       "      <td>...</td>\n",
       "      <td>41.4</td>\n",
       "      <td>1.17</td>\n",
       "      <td>37.7</td>\n",
       "      <td>7.10</td>\n",
       "      <td>28.4</td>\n",
       "      <td>5.08</td>\n",
       "      <td>20.3</td>\n",
       "      <td>4.51</td>\n",
       "      <td>2.14</td>\n",
       "      <td>64.64</td>\n",
       "    </tr>\n",
       "    <tr>\n",
       "      <th>2019-12-30</th>\n",
       "      <td>2593.0</td>\n",
       "      <td>96.0</td>\n",
       "      <td>331.0</td>\n",
       "      <td>308.0</td>\n",
       "      <td>59.0</td>\n",
       "      <td>21.7</td>\n",
       "      <td>3172.0</td>\n",
       "      <td>1592.0</td>\n",
       "      <td>1242.0</td>\n",
       "      <td>45.4</td>\n",
       "      <td>...</td>\n",
       "      <td>39.2</td>\n",
       "      <td>1.43</td>\n",
       "      <td>36.6</td>\n",
       "      <td>7.23</td>\n",
       "      <td>28.9</td>\n",
       "      <td>5.28</td>\n",
       "      <td>21.1</td>\n",
       "      <td>4.48</td>\n",
       "      <td>0.62</td>\n",
       "      <td>62.53</td>\n",
       "    </tr>\n",
       "  </tbody>\n",
       "</table>\n",
       "<p>5 rows × 22 columns</p>\n",
       "</div>"
      ],
      "text/plain": [
       "               股本億  財報評分     收盤     平均     漲跌   漲跌%    營業收入    營業毛利    營業利益  \\\n",
       "時間                                                                            \n",
       "2020-12-30     NaN   NaN  449.0  450.0   16.0   3.7     NaN     NaN     NaN   \n",
       "2020-09-30     NaN   NaN  433.0  411.0  120.0  38.3     NaN     NaN     NaN   \n",
       "2020-06-30  2593.0  96.0  313.0  299.0   39.0  14.2  3107.0  1646.0  1311.0   \n",
       "2020-03-30  2593.0  96.0  274.0  313.0  -57.0 -17.2  3106.0  1608.0  1285.0   \n",
       "2019-12-30  2593.0  96.0  331.0  308.0   59.0  21.7  3172.0  1592.0  1242.0   \n",
       "\n",
       "            業外損益  ...  營業利益%  業外損益%  稅後淨利%  單季ROE  年估ROE  單季ROA  年估ROA  稅後EPS  \\\n",
       "時間                ...                                                           \n",
       "2020-12-30   NaN  ...    NaN    NaN    NaN    NaN    NaN    NaN    NaN    NaN   \n",
       "2020-09-30   NaN  ...    NaN    NaN    NaN    NaN    NaN    NaN    NaN    NaN   \n",
       "2020-06-30  53.0  ...   42.2   1.71   38.9   7.12   28.5   5.05   20.2   4.66   \n",
       "2020-03-30  36.3  ...   41.4   1.17   37.7   7.10   28.4   5.08   20.3   4.51   \n",
       "2019-12-30  45.4  ...   39.2   1.43   36.6   7.23   28.9   5.28   21.1   4.48   \n",
       "\n",
       "             年增元   BPS元  \n",
       "時間                       \n",
       "2020-12-30   NaN    NaN  \n",
       "2020-09-30   NaN    NaN  \n",
       "2020-06-30  2.09  66.35  \n",
       "2020-03-30  2.14  64.64  \n",
       "2019-12-30  0.62  62.53  \n",
       "\n",
       "[5 rows x 22 columns]"
      ]
     },
     "execution_count": 229,
     "metadata": {},
     "output_type": "execute_result"
    }
   ],
   "source": [
    "df = dfs[-1]\n",
    "\n",
    "#取最後一欄欄位\n",
    "df.columns = df.columns.get_level_values(-1)\n",
    "\n",
    "#只取文字出來, 去除空白\n",
    "df.columns = [\"\".join(re.findall(\"\\w+\", i)) for i in df.columns]\n",
    "df = FilterColumn(df)\n",
    "\n",
    "# \"-\" 去除掉, 換成 NaN\n",
    "df = df.applymap(lambda x: np.nan if x == \"-\" else x)\n",
    "\n",
    "# \"2020Q4\" 換成 datatime\n",
    "df.index = df[\"季度\"].map(lambda x: ConvertSeasonToTime(x))\n",
    "df.index.name = \"時間\"\n",
    "df = df.drop(columns = \"季度\")\n",
    "\n",
    "# 轉換成 float\n",
    "df = df.applymap(lambda x: float(x))\n",
    "display(df.columns)\n",
    "df[:5]"
   ]
  },
  {
   "cell_type": "code",
   "execution_count": 238,
   "metadata": {},
   "outputs": [
    {
     "data": {
      "text/plain": [
       "<matplotlib.axes._subplots.AxesSubplot at 0x1af24162c50>"
      ]
     },
     "execution_count": 238,
     "metadata": {},
     "output_type": "execute_result"
    },
    {
     "name": "stderr",
     "output_type": "stream",
     "text": [
      "C:\\ProgramData\\Anaconda3\\lib\\site-packages\\matplotlib\\backends\\backend_agg.py:211: RuntimeWarning: Glyph 26178 missing from current font.\n",
      "  font.set_text(s, 0.0, flags=flags)\n",
      "C:\\ProgramData\\Anaconda3\\lib\\site-packages\\matplotlib\\backends\\backend_agg.py:211: RuntimeWarning: Glyph 38291 missing from current font.\n",
      "  font.set_text(s, 0.0, flags=flags)\n",
      "C:\\ProgramData\\Anaconda3\\lib\\site-packages\\matplotlib\\backends\\backend_agg.py:180: RuntimeWarning: Glyph 26178 missing from current font.\n",
      "  font.set_text(s, 0, flags=flags)\n",
      "C:\\ProgramData\\Anaconda3\\lib\\site-packages\\matplotlib\\backends\\backend_agg.py:180: RuntimeWarning: Glyph 38291 missing from current font.\n",
      "  font.set_text(s, 0, flags=flags)\n"
     ]
    },
    {
     "data": {
      "image/png": "[encoded data removed]",
      "text/plain": [
       "<Figure size 432x288 with 1 Axes>"
      ]
     },
     "metadata": {
      "needs_background": "light"
     },
     "output_type": "display_data"
    }
   ],
   "source": [
    "df[\"營業毛利%\"].dropna().plot()\n",
    "\n",
    "df[\"營業利益%\"].dropna().plot()\n",
    "df[\"稅後淨利%\"].dropna().plot()\n"
   ]
  },
  {
   "cell_type": "code",
   "execution_count": 209,
   "metadata": {},
   "outputs": [
    {
     "data": {
      "text/plain": [
       "array(['股本億%', 'A', '收盤%', '平均%', '漲跌', '漲跌%', '營業收入', '營業毛利', '營業利益',\n",
       "       '業外損益', '稅後淨利', '營業毛利%', '營業利益%', '業外損益%', '稅後淨利%', '單季ROE',\n",
       "       '年估ROE', '單季ROA', '年估ROA', '稅後EPS', '年增元', 'BPS元'], dtype=object)"
      ]
     },
     "execution_count": 209,
     "metadata": {},
     "output_type": "execute_result"
    }
   ],
   "source": [
    "df.columns.values"
   ]
  }
 ],
 "metadata": {
  "kernelspec": {
   "display_name": "Python 3",
   "language": "python",
   "name": "python3"
  },
  "language_info": {
   "codemirror_mode": {
    "name": "ipython",
    "version": 3
   },
   "file_extension": ".py",
   "mimetype": "text/x-python",
   "name": "python",
   "nbconvert_exporter": "python",
   "pygments_lexer": "ipython3",
   "version": "3.7.3"
  },
  "toc": {
   "base_numbering": 1,
   "nav_menu": {},
   "number_sections": true,
   "sideBar": true,
   "skip_h1_title": false,
   "title_cell": "Table of Contents",
   "title_sidebar": "Contents",
   "toc_cell": false,
   "toc_position": {},
   "toc_section_display": true,
   "toc_window_display": false
  },
  "varInspector": {
   "cols": {
    "lenName": "1213",
    "lenType": 16,
    "lenVar": 40
   },
   "kernels_config": {
    "python": {
     "delete_cmd_postfix": "",
     "delete_cmd_prefix": "del ",
     "library": "var_list.py",
     "varRefreshCmd": "print(var_dic_list())"
    },
    "r": {
     "delete_cmd_postfix": ") ",
     "delete_cmd_prefix": "rm(",
     "library": "var_list.r",
     "varRefreshCmd": "cat(var_dic_list()) "
    }
   },
   "types_to_exclude": [
    "module",
    "function",
    "builtin_function_or_method",
    "instance",
    "_Feature"
   ],
   "window_display": false
  }
 },
 "nbformat": 4,
 "nbformat_minor": 2
}
